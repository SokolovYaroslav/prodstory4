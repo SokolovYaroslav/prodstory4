{
 "cells": [
  {
   "cell_type": "code",
   "execution_count": 1,
   "metadata": {
    "collapsed": true
   },
   "outputs": [],
   "source": [
    "import numpy as np\n",
    "import pandas as pd\n",
    "from sklearn.cluster import AgglomerativeClustering\n",
    "from sklearn.metrics import accuracy_score\n",
    "from sklearn.preprocessing import LabelEncoder"
   ]
  },
  {
   "cell_type": "code",
   "execution_count": 2,
   "outputs": [
    {
     "data": {
      "text/plain": "                                      model    type  \\\n0      1b220e0b-d7fa-40a0-8cfd-930a3228c668  Sphere   \n1      1b220e0b-d7fa-40a0-8cfd-930a3228c668  Sphere   \n2      1b220e0b-d7fa-40a0-8cfd-930a3228c668  Sphere   \n3      1b220e0b-d7fa-40a0-8cfd-930a3228c668  Sphere   \n4      1b220e0b-d7fa-40a0-8cfd-930a3228c668  Sphere   \n...                                     ...     ...   \n31975  255e1024-5967-4247-9de9-b595403f6bc5    Cone   \n31976  255e1024-5967-4247-9de9-b595403f6bc5    Cone   \n31977  255e1024-5967-4247-9de9-b595403f6bc5    Cone   \n31978  255e1024-5967-4247-9de9-b595403f6bc5    Cone   \n31979  255e1024-5967-4247-9de9-b595403f6bc5    Cone   \n\n                                         hist_type  n_bins  \\\n0          model_bounding_sphere_concentric_sphere       8   \n1          model_bounding_sphere_concentric_sphere      16   \n2          model_bounding_sphere_concentric_sphere      32   \n3          model_bounding_sphere_concentric_sphere      64   \n4          model_bounding_sphere_concentric_sphere     128   \n...                                            ...     ...   \n31975  model_bounding_sphere_strict_outer_absolute       8   \n31976  model_bounding_sphere_strict_outer_absolute      16   \n31977  model_bounding_sphere_strict_outer_absolute      32   \n31978  model_bounding_sphere_strict_outer_absolute      64   \n31979  model_bounding_sphere_strict_outer_absolute     128   \n\n                                                  values  \n0      [0, 0, 0, 0, 0.3373978709670946, 0.31850100387...  \n1      [0, 0, 0, 0, 0, 0, 0, 0, 0.10627104869753085, ...  \n2      [0, 0, 0, 0, 0, 0, 0, 0, 0, 0, 0, 0, 0, 0, 0, ...  \n3      [0, 0, 0, 0, 0, 0, 0, 0, 0, 0, 0, 0, 0, 0, 0, ...  \n4      [0, 0, 0, 0, 0, 0, 0, 0, 0, 0, 0, 0, 0, 0, 0, ...  \n...                                                  ...  \n31975  [0.0002740011500329959, 0.008458476145636298, ...  \n31976  [2.7014197890577063e-05, 0.0002469869521424189...  \n31977  [0, 2.7014197890577063e-05, 7.745907762502199e...  \n31978  [0, 0, 5.237446529805757e-06, 2.17767513607713...  \n31979  [0, 0, 0, 0, 5.51310161032185e-07, 4.686136368...  \n\n[31980 rows x 5 columns]",
      "text/html": "<div>\n<style scoped>\n    .dataframe tbody tr th:only-of-type {\n        vertical-align: middle;\n    }\n\n    .dataframe tbody tr th {\n        vertical-align: top;\n    }\n\n    .dataframe thead th {\n        text-align: right;\n    }\n</style>\n<table border=\"1\" class=\"dataframe\">\n  <thead>\n    <tr style=\"text-align: right;\">\n      <th></th>\n      <th>model</th>\n      <th>type</th>\n      <th>hist_type</th>\n      <th>n_bins</th>\n      <th>values</th>\n    </tr>\n  </thead>\n  <tbody>\n    <tr>\n      <th>0</th>\n      <td>1b220e0b-d7fa-40a0-8cfd-930a3228c668</td>\n      <td>Sphere</td>\n      <td>model_bounding_sphere_concentric_sphere</td>\n      <td>8</td>\n      <td>[0, 0, 0, 0, 0.3373978709670946, 0.31850100387...</td>\n    </tr>\n    <tr>\n      <th>1</th>\n      <td>1b220e0b-d7fa-40a0-8cfd-930a3228c668</td>\n      <td>Sphere</td>\n      <td>model_bounding_sphere_concentric_sphere</td>\n      <td>16</td>\n      <td>[0, 0, 0, 0, 0, 0, 0, 0, 0.10627104869753085, ...</td>\n    </tr>\n    <tr>\n      <th>2</th>\n      <td>1b220e0b-d7fa-40a0-8cfd-930a3228c668</td>\n      <td>Sphere</td>\n      <td>model_bounding_sphere_concentric_sphere</td>\n      <td>32</td>\n      <td>[0, 0, 0, 0, 0, 0, 0, 0, 0, 0, 0, 0, 0, 0, 0, ...</td>\n    </tr>\n    <tr>\n      <th>3</th>\n      <td>1b220e0b-d7fa-40a0-8cfd-930a3228c668</td>\n      <td>Sphere</td>\n      <td>model_bounding_sphere_concentric_sphere</td>\n      <td>64</td>\n      <td>[0, 0, 0, 0, 0, 0, 0, 0, 0, 0, 0, 0, 0, 0, 0, ...</td>\n    </tr>\n    <tr>\n      <th>4</th>\n      <td>1b220e0b-d7fa-40a0-8cfd-930a3228c668</td>\n      <td>Sphere</td>\n      <td>model_bounding_sphere_concentric_sphere</td>\n      <td>128</td>\n      <td>[0, 0, 0, 0, 0, 0, 0, 0, 0, 0, 0, 0, 0, 0, 0, ...</td>\n    </tr>\n    <tr>\n      <th>...</th>\n      <td>...</td>\n      <td>...</td>\n      <td>...</td>\n      <td>...</td>\n      <td>...</td>\n    </tr>\n    <tr>\n      <th>31975</th>\n      <td>255e1024-5967-4247-9de9-b595403f6bc5</td>\n      <td>Cone</td>\n      <td>model_bounding_sphere_strict_outer_absolute</td>\n      <td>8</td>\n      <td>[0.0002740011500329959, 0.008458476145636298, ...</td>\n    </tr>\n    <tr>\n      <th>31976</th>\n      <td>255e1024-5967-4247-9de9-b595403f6bc5</td>\n      <td>Cone</td>\n      <td>model_bounding_sphere_strict_outer_absolute</td>\n      <td>16</td>\n      <td>[2.7014197890577063e-05, 0.0002469869521424189...</td>\n    </tr>\n    <tr>\n      <th>31977</th>\n      <td>255e1024-5967-4247-9de9-b595403f6bc5</td>\n      <td>Cone</td>\n      <td>model_bounding_sphere_strict_outer_absolute</td>\n      <td>32</td>\n      <td>[0, 2.7014197890577063e-05, 7.745907762502199e...</td>\n    </tr>\n    <tr>\n      <th>31978</th>\n      <td>255e1024-5967-4247-9de9-b595403f6bc5</td>\n      <td>Cone</td>\n      <td>model_bounding_sphere_strict_outer_absolute</td>\n      <td>64</td>\n      <td>[0, 0, 5.237446529805757e-06, 2.17767513607713...</td>\n    </tr>\n    <tr>\n      <th>31979</th>\n      <td>255e1024-5967-4247-9de9-b595403f6bc5</td>\n      <td>Cone</td>\n      <td>model_bounding_sphere_strict_outer_absolute</td>\n      <td>128</td>\n      <td>[0, 0, 0, 0, 5.51310161032185e-07, 4.686136368...</td>\n    </tr>\n  </tbody>\n</table>\n<p>31980 rows × 5 columns</p>\n</div>"
     },
     "execution_count": 2,
     "metadata": {},
     "output_type": "execute_result"
    }
   ],
   "source": [
    "features = pd.read_csv('features.csv', index_col=0)\n",
    "features.drop(\"model_name\", inplace=True, axis=1)\n",
    "features"
   ],
   "metadata": {
    "collapsed": false,
    "pycharm": {
     "name": "#%%\n"
    }
   }
  },
  {
   "cell_type": "code",
   "execution_count": 3,
   "outputs": [
    {
     "data": {
      "text/plain": "                                      model    type  \\\n0      1b220e0b-d7fa-40a0-8cfd-930a3228c668  Sphere   \n1      1b220e0b-d7fa-40a0-8cfd-930a3228c668  Sphere   \n2      1b220e0b-d7fa-40a0-8cfd-930a3228c668  Sphere   \n3      1b220e0b-d7fa-40a0-8cfd-930a3228c668  Sphere   \n4      1b220e0b-d7fa-40a0-8cfd-930a3228c668  Sphere   \n...                                     ...     ...   \n31975  255e1024-5967-4247-9de9-b595403f6bc5    Cone   \n31976  255e1024-5967-4247-9de9-b595403f6bc5    Cone   \n31977  255e1024-5967-4247-9de9-b595403f6bc5    Cone   \n31978  255e1024-5967-4247-9de9-b595403f6bc5    Cone   \n31979  255e1024-5967-4247-9de9-b595403f6bc5    Cone   \n\n                                         hist_type  n_bins  \\\n0          model_bounding_sphere_concentric_sphere       8   \n1          model_bounding_sphere_concentric_sphere      16   \n2          model_bounding_sphere_concentric_sphere      32   \n3          model_bounding_sphere_concentric_sphere      64   \n4          model_bounding_sphere_concentric_sphere     128   \n...                                            ...     ...   \n31975  model_bounding_sphere_strict_outer_absolute       8   \n31976  model_bounding_sphere_strict_outer_absolute      16   \n31977  model_bounding_sphere_strict_outer_absolute      32   \n31978  model_bounding_sphere_strict_outer_absolute      64   \n31979  model_bounding_sphere_strict_outer_absolute     128   \n\n                                                   hists  \n0      [0.0, 0.0, 0.0, 0.0, 0.3373978709670946, 0.318...  \n1      [0.0, 0.0, 0.0, 0.0, 0.0, 0.0, 0.0, 0.0, 0.106...  \n2      [0.0, 0.0, 0.0, 0.0, 0.0, 0.0, 0.0, 0.0, 0.0, ...  \n3      [0.0, 0.0, 0.0, 0.0, 0.0, 0.0, 0.0, 0.0, 0.0, ...  \n4      [0.0, 0.0, 0.0, 0.0, 0.0, 0.0, 0.0, 0.0, 0.0, ...  \n...                                                  ...  \n31975  [0.0002740011500329959, 0.008458476145636298, ...  \n31976  [2.7014197890577063e-05, 0.0002469869521424189...  \n31977  [0.0, 2.7014197890577063e-05, 7.74590776250219...  \n31978  [0.0, 0.0, 5.237446529805757e-06, 2.1776751360...  \n31979  [0.0, 0.0, 0.0, 0.0, 5.51310161032185e-07, 4.6...  \n\n[31980 rows x 5 columns]",
      "text/html": "<div>\n<style scoped>\n    .dataframe tbody tr th:only-of-type {\n        vertical-align: middle;\n    }\n\n    .dataframe tbody tr th {\n        vertical-align: top;\n    }\n\n    .dataframe thead th {\n        text-align: right;\n    }\n</style>\n<table border=\"1\" class=\"dataframe\">\n  <thead>\n    <tr style=\"text-align: right;\">\n      <th></th>\n      <th>model</th>\n      <th>type</th>\n      <th>hist_type</th>\n      <th>n_bins</th>\n      <th>hists</th>\n    </tr>\n  </thead>\n  <tbody>\n    <tr>\n      <th>0</th>\n      <td>1b220e0b-d7fa-40a0-8cfd-930a3228c668</td>\n      <td>Sphere</td>\n      <td>model_bounding_sphere_concentric_sphere</td>\n      <td>8</td>\n      <td>[0.0, 0.0, 0.0, 0.0, 0.3373978709670946, 0.318...</td>\n    </tr>\n    <tr>\n      <th>1</th>\n      <td>1b220e0b-d7fa-40a0-8cfd-930a3228c668</td>\n      <td>Sphere</td>\n      <td>model_bounding_sphere_concentric_sphere</td>\n      <td>16</td>\n      <td>[0.0, 0.0, 0.0, 0.0, 0.0, 0.0, 0.0, 0.0, 0.106...</td>\n    </tr>\n    <tr>\n      <th>2</th>\n      <td>1b220e0b-d7fa-40a0-8cfd-930a3228c668</td>\n      <td>Sphere</td>\n      <td>model_bounding_sphere_concentric_sphere</td>\n      <td>32</td>\n      <td>[0.0, 0.0, 0.0, 0.0, 0.0, 0.0, 0.0, 0.0, 0.0, ...</td>\n    </tr>\n    <tr>\n      <th>3</th>\n      <td>1b220e0b-d7fa-40a0-8cfd-930a3228c668</td>\n      <td>Sphere</td>\n      <td>model_bounding_sphere_concentric_sphere</td>\n      <td>64</td>\n      <td>[0.0, 0.0, 0.0, 0.0, 0.0, 0.0, 0.0, 0.0, 0.0, ...</td>\n    </tr>\n    <tr>\n      <th>4</th>\n      <td>1b220e0b-d7fa-40a0-8cfd-930a3228c668</td>\n      <td>Sphere</td>\n      <td>model_bounding_sphere_concentric_sphere</td>\n      <td>128</td>\n      <td>[0.0, 0.0, 0.0, 0.0, 0.0, 0.0, 0.0, 0.0, 0.0, ...</td>\n    </tr>\n    <tr>\n      <th>...</th>\n      <td>...</td>\n      <td>...</td>\n      <td>...</td>\n      <td>...</td>\n      <td>...</td>\n    </tr>\n    <tr>\n      <th>31975</th>\n      <td>255e1024-5967-4247-9de9-b595403f6bc5</td>\n      <td>Cone</td>\n      <td>model_bounding_sphere_strict_outer_absolute</td>\n      <td>8</td>\n      <td>[0.0002740011500329959, 0.008458476145636298, ...</td>\n    </tr>\n    <tr>\n      <th>31976</th>\n      <td>255e1024-5967-4247-9de9-b595403f6bc5</td>\n      <td>Cone</td>\n      <td>model_bounding_sphere_strict_outer_absolute</td>\n      <td>16</td>\n      <td>[2.7014197890577063e-05, 0.0002469869521424189...</td>\n    </tr>\n    <tr>\n      <th>31977</th>\n      <td>255e1024-5967-4247-9de9-b595403f6bc5</td>\n      <td>Cone</td>\n      <td>model_bounding_sphere_strict_outer_absolute</td>\n      <td>32</td>\n      <td>[0.0, 2.7014197890577063e-05, 7.74590776250219...</td>\n    </tr>\n    <tr>\n      <th>31978</th>\n      <td>255e1024-5967-4247-9de9-b595403f6bc5</td>\n      <td>Cone</td>\n      <td>model_bounding_sphere_strict_outer_absolute</td>\n      <td>64</td>\n      <td>[0.0, 0.0, 5.237446529805757e-06, 2.1776751360...</td>\n    </tr>\n    <tr>\n      <th>31979</th>\n      <td>255e1024-5967-4247-9de9-b595403f6bc5</td>\n      <td>Cone</td>\n      <td>model_bounding_sphere_strict_outer_absolute</td>\n      <td>128</td>\n      <td>[0.0, 0.0, 0.0, 0.0, 5.51310161032185e-07, 4.6...</td>\n    </tr>\n  </tbody>\n</table>\n<p>31980 rows × 5 columns</p>\n</div>"
     },
     "execution_count": 3,
     "metadata": {},
     "output_type": "execute_result"
    }
   ],
   "source": [
    "features[\"hists\"] = features[\"values\"].apply(lambda list_str: list(map(float, list_str[1:-1].split(\",\"))))\n",
    "features.drop(\"values\", inplace=True, axis=1)\n",
    "features"
   ],
   "metadata": {
    "collapsed": false,
    "pycharm": {
     "name": "#%%\n"
    }
   }
  },
  {
   "cell_type": "markdown",
   "source": [
    "Давайте сгруппируем гистограммы для моделей следующим образом: возьмём по гистограмме определенного размера каждого типа и сконкатенируем их"
   ],
   "metadata": {
    "collapsed": false,
    "pycharm": {
     "name": "#%% md\n"
    }
   }
  },
  {
   "cell_type": "code",
   "execution_count": 4,
   "outputs": [],
   "source": [
    "def concat_hists(df, hist_len: int):\n",
    "    return df.groupby([\"model\", \"type\"])[\"hists\"].apply(lambda lists: [x for l in lists if len(l) == hist_len for x in l]).reset_index()"
   ],
   "metadata": {
    "collapsed": false,
    "pycharm": {
     "name": "#%%\n"
    }
   }
  },
  {
   "cell_type": "code",
   "execution_count": 5,
   "outputs": [
    {
     "data": {
      "text/plain": "                                     model      type  \\\n0     0000f8f3-1d1f-4edd-8f25-9304e10090b0      Cone   \n1     00080096-4d79-4d76-93de-ac9104d999b9    Sphere   \n2     001352ce-6756-4705-b25b-d621ea1e7b71  Cylinder   \n3     0013b5b7-037b-4f26-84b3-dc06c4ae617a      Cube   \n4     00222dd1-5bee-4af5-8f26-6332331fa31d      Cube   \n...                                    ...       ...   \n1594  2789a3b8-fce2-4dee-916c-9ecfcae913f3  Cylinder   \n1595  278abcce-26d3-424e-9743-a592a459c49d    Sphere   \n1596  278c5c66-8c5d-4884-946c-491d023a92ed      Cone   \n1597  2794f6ff-e550-4442-93a2-df7f92b13e74     Torus   \n1598  279848c7-f589-4962-9d13-72eafacbf1b4      Cone   \n\n                                                  hists  \n0     [0.0, 0.0, 0.0, 0.0, 0.0, 0.0, 0.0017709016653...  \n1     [0.0, 0.0, 0.0, 0.0, 0.0, 0.0, 0.0, 0.0, 0.0, ...  \n2     [0.0, 0.0, 0.0003640661005972985, 0.0025229862...  \n3     [0.0, 0.0, 0.0003400531747549458, 0.0023572393...  \n4     [0.0, 0.0, 0.0, 0.0, 0.0, 0.0, 0.0, 0.0, 0.0, ...  \n...                                                 ...  \n1594  [0.0, 0.0, 0.0, 0.0, 0.0, 0.0, 0.0, 0.0, 0.0, ...  \n1595  [0.0, 0.0, 0.0, 0.0, 0.0, 0.0, 0.0, 0.0, 0.0, ...  \n1596  [0.0, 0.0, 0.0, 0.0, 0.0, 0.0, 0.0, 0.0, 0.0, ...  \n1597  [0.0, 0.00011790809599862798, 0.00626788719410...  \n1598  [0.0, 0.0, 0.0028675578616125584, 0.0044289506...  \n\n[1599 rows x 3 columns]",
      "text/html": "<div>\n<style scoped>\n    .dataframe tbody tr th:only-of-type {\n        vertical-align: middle;\n    }\n\n    .dataframe tbody tr th {\n        vertical-align: top;\n    }\n\n    .dataframe thead th {\n        text-align: right;\n    }\n</style>\n<table border=\"1\" class=\"dataframe\">\n  <thead>\n    <tr style=\"text-align: right;\">\n      <th></th>\n      <th>model</th>\n      <th>type</th>\n      <th>hists</th>\n    </tr>\n  </thead>\n  <tbody>\n    <tr>\n      <th>0</th>\n      <td>0000f8f3-1d1f-4edd-8f25-9304e10090b0</td>\n      <td>Cone</td>\n      <td>[0.0, 0.0, 0.0, 0.0, 0.0, 0.0, 0.0017709016653...</td>\n    </tr>\n    <tr>\n      <th>1</th>\n      <td>00080096-4d79-4d76-93de-ac9104d999b9</td>\n      <td>Sphere</td>\n      <td>[0.0, 0.0, 0.0, 0.0, 0.0, 0.0, 0.0, 0.0, 0.0, ...</td>\n    </tr>\n    <tr>\n      <th>2</th>\n      <td>001352ce-6756-4705-b25b-d621ea1e7b71</td>\n      <td>Cylinder</td>\n      <td>[0.0, 0.0, 0.0003640661005972985, 0.0025229862...</td>\n    </tr>\n    <tr>\n      <th>3</th>\n      <td>0013b5b7-037b-4f26-84b3-dc06c4ae617a</td>\n      <td>Cube</td>\n      <td>[0.0, 0.0, 0.0003400531747549458, 0.0023572393...</td>\n    </tr>\n    <tr>\n      <th>4</th>\n      <td>00222dd1-5bee-4af5-8f26-6332331fa31d</td>\n      <td>Cube</td>\n      <td>[0.0, 0.0, 0.0, 0.0, 0.0, 0.0, 0.0, 0.0, 0.0, ...</td>\n    </tr>\n    <tr>\n      <th>...</th>\n      <td>...</td>\n      <td>...</td>\n      <td>...</td>\n    </tr>\n    <tr>\n      <th>1594</th>\n      <td>2789a3b8-fce2-4dee-916c-9ecfcae913f3</td>\n      <td>Cylinder</td>\n      <td>[0.0, 0.0, 0.0, 0.0, 0.0, 0.0, 0.0, 0.0, 0.0, ...</td>\n    </tr>\n    <tr>\n      <th>1595</th>\n      <td>278abcce-26d3-424e-9743-a592a459c49d</td>\n      <td>Sphere</td>\n      <td>[0.0, 0.0, 0.0, 0.0, 0.0, 0.0, 0.0, 0.0, 0.0, ...</td>\n    </tr>\n    <tr>\n      <th>1596</th>\n      <td>278c5c66-8c5d-4884-946c-491d023a92ed</td>\n      <td>Cone</td>\n      <td>[0.0, 0.0, 0.0, 0.0, 0.0, 0.0, 0.0, 0.0, 0.0, ...</td>\n    </tr>\n    <tr>\n      <th>1597</th>\n      <td>2794f6ff-e550-4442-93a2-df7f92b13e74</td>\n      <td>Torus</td>\n      <td>[0.0, 0.00011790809599862798, 0.00626788719410...</td>\n    </tr>\n    <tr>\n      <th>1598</th>\n      <td>279848c7-f589-4962-9d13-72eafacbf1b4</td>\n      <td>Cone</td>\n      <td>[0.0, 0.0, 0.0028675578616125584, 0.0044289506...</td>\n    </tr>\n  </tbody>\n</table>\n<p>1599 rows × 3 columns</p>\n</div>"
     },
     "execution_count": 5,
     "metadata": {},
     "output_type": "execute_result"
    }
   ],
   "source": [
    "# 64 показывает себя лучше всего\n",
    "prepared = concat_hists(features, hist_len=64)\n",
    "prepared"
   ],
   "metadata": {
    "collapsed": false,
    "pycharm": {
     "name": "#%%\n"
    }
   }
  },
  {
   "cell_type": "markdown",
   "source": [
    "Теперь сделаем кластеризацию"
   ],
   "metadata": {
    "collapsed": false,
    "pycharm": {
     "name": "#%% md\n"
    }
   }
  },
  {
   "cell_type": "code",
   "execution_count": 6,
   "outputs": [
    {
     "data": {
      "text/plain": "0       [0.0, 0.0, 0.0, 0.0, 0.0, 0.0, 0.0017709016653...\n1       [0.0, 0.0, 0.0, 0.0, 0.0, 0.0, 0.0, 0.0, 0.0, ...\n2       [0.0, 0.0, 0.0003640661005972985, 0.0025229862...\n3       [0.0, 0.0, 0.0003400531747549458, 0.0023572393...\n4       [0.0, 0.0, 0.0, 0.0, 0.0, 0.0, 0.0, 0.0, 0.0, ...\n                              ...                        \n1594    [0.0, 0.0, 0.0, 0.0, 0.0, 0.0, 0.0, 0.0, 0.0, ...\n1595    [0.0, 0.0, 0.0, 0.0, 0.0, 0.0, 0.0, 0.0, 0.0, ...\n1596    [0.0, 0.0, 0.0, 0.0, 0.0, 0.0, 0.0, 0.0, 0.0, ...\n1597    [0.0, 0.00011790809599862798, 0.00626788719410...\n1598    [0.0, 0.0, 0.0028675578616125584, 0.0044289506...\nName: hists, Length: 1599, dtype: object"
     },
     "execution_count": 6,
     "metadata": {},
     "output_type": "execute_result"
    }
   ],
   "source": [
    "prepared[\"hists\"].map(np.array)"
   ],
   "metadata": {
    "collapsed": false,
    "pycharm": {
     "name": "#%%\n"
    }
   }
  },
  {
   "cell_type": "code",
   "execution_count": 7,
   "outputs": [
    {
     "data": {
      "text/plain": "(1599, 256)"
     },
     "execution_count": 7,
     "metadata": {},
     "output_type": "execute_result"
    }
   ],
   "source": [
    "x = np.array([row for row in prepared[\"hists\"].values])\n",
    "x.shape"
   ],
   "metadata": {
    "collapsed": false,
    "pycharm": {
     "name": "#%%\n"
    }
   }
  },
  {
   "cell_type": "code",
   "execution_count": 8,
   "outputs": [
    {
     "data": {
      "text/plain": "array([0, 3, 2, ..., 0, 4, 0])"
     },
     "execution_count": 8,
     "metadata": {},
     "output_type": "execute_result"
    }
   ],
   "source": [
    "y = prepared[\"type\"]\n",
    "le = LabelEncoder()\n",
    "y = le.fit_transform(y)\n",
    "y"
   ],
   "metadata": {
    "collapsed": false,
    "pycharm": {
     "name": "#%%\n"
    }
   }
  },
  {
   "cell_type": "code",
   "execution_count": 9,
   "outputs": [
    {
     "data": {
      "text/plain": "5"
     },
     "execution_count": 9,
     "metadata": {},
     "output_type": "execute_result"
    }
   ],
   "source": [
    "# number of clusters\n",
    "num_clusters = len(np.unique(y))\n",
    "num_clusters"
   ],
   "metadata": {
    "collapsed": false,
    "pycharm": {
     "name": "#%%\n"
    }
   }
  },
  {
   "cell_type": "code",
   "execution_count": 10,
   "outputs": [],
   "source": [
    "cluster_algo = AgglomerativeClustering(n_clusters=num_clusters)\n",
    "y_pred = cluster_algo.fit_predict(x)"
   ],
   "metadata": {
    "collapsed": false,
    "pycharm": {
     "name": "#%%\n"
    }
   }
  },
  {
   "cell_type": "code",
   "execution_count": 11,
   "outputs": [
    {
     "name": "stdout",
     "output_type": "stream",
     "text": [
      "Accuracy on train set is: 0.33771106941838647\n"
     ]
    }
   ],
   "source": [
    "print(f\"Accuracy on train set is: {accuracy_score(y, y_pred)}\")"
   ],
   "metadata": {
    "collapsed": false,
    "pycharm": {
     "name": "#%%\n"
    }
   }
  }
 ],
 "metadata": {
  "kernelspec": {
   "display_name": "Python 3",
   "language": "python",
   "name": "python3"
  },
  "language_info": {
   "codemirror_mode": {
    "name": "ipython",
    "version": 2
   },
   "file_extension": ".py",
   "mimetype": "text/x-python",
   "name": "python",
   "nbconvert_exporter": "python",
   "pygments_lexer": "ipython2",
   "version": "2.7.6"
  }
 },
 "nbformat": 4,
 "nbformat_minor": 0
}